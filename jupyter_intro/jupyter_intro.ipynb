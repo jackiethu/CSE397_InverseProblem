{
 "cells": [
  {
   "cell_type": "code",
   "execution_count": 3,
   "metadata": {
    "slideshow": {
     "slide_type": "skip"
    }
   },
   "outputs": [],
   "source": [
    "import IPython\n",
    "import numpy as np\n",
    "from scipy.io import wavfile\n",
    "from matplotlib import pyplot as plt"
   ]
  },
  {
   "cell_type": "markdown",
   "metadata": {
    "slideshow": {
     "slide_type": "slide"
    }
   },
   "source": [
    "<img src=\"https://avatars3.githubusercontent.com/u/7388996?v=3&s=200\" alt=\"Drawing\" align=\"left\" style=\"width: 120px;\"/>\n",
    "\n",
    "# Introduction to Jupyter\n",
    "\n",
    "[Jupyter](http://jupyter-notebook.readthedocs.io/en/latest/notebook.html) (previously known as IPython Notebook) is an application that facilitates the development, execution, and presentation of Python code, all in one interface.\n",
    "Jupyter also supports text, [$\\LaTeX$](https://www.latex-project.org), hyperlinks, images, sound files, and more."
   ]
  },
  {
   "cell_type": "markdown",
   "metadata": {
    "slideshow": {
     "slide_type": "slide"
    }
   },
   "source": [
    "## Cells\n",
    "\n",
    "A Jupyter notebook consists of seperate sections called _cells_.\n",
    "There are two main types of cells:\n",
    "- _Markdown cells_ (like this cell) containing text, $\\LaTeX$, or images.\n",
    "- _Code cells_ containing Python code that can be executed within the notebook.\n",
    "\n",
    "Each code cell can be run independent of other cells, as if the code from that cell were being pasted into IPython and executed line by line.\n",
    "When a cell is run, its output will be displayed directly after it.\n",
    "Run the following code cell by clicking on it, holding `Ctrl` or `Shift`, and pressing `Enter`.\n",
    "You can also click the run button (the \"play\" button) on the tool bar at the top of the page."
   ]
  },
  {
   "cell_type": "code",
   "execution_count": 1,
   "metadata": {
    "slideshow": {
     "slide_type": "subslide"
    }
   },
   "outputs": [
    {
     "name": "stdout",
     "output_type": "stream",
     "text": [
      "3! = 6\n",
      "5! = 120\n"
     ]
    },
    {
     "data": {
      "text/plain": [
       "3628800"
      ]
     },
     "execution_count": 1,
     "metadata": {},
     "output_type": "execute_result"
    }
   ],
   "source": [
    "def factorial(n):\n",
    "    \"\"\"Calculate n! recursively.\"\"\"\n",
    "    if n < 0:\n",
    "        raise ValueError(\"n! not defined for n < 0\")\n",
    "    elif n in {0, 1}:   # Base case.\n",
    "        return 1\n",
    "    else:               # Recursive case.\n",
    "        return n * factorial(n - 1)\n",
    "\n",
    "    \n",
    "# print() displays text below the code cell.\n",
    "print(\"3! =\", factorial(3))\n",
    "print(\"5! =\", factorial(5))\n",
    "\n",
    "# The result of the line of code at the end of the cell is displayed below the cell as output, like in IPython.\n",
    "factorial(10)"
   ]
  },
  {
   "cell_type": "markdown",
   "metadata": {
    "slideshow": {
     "slide_type": "subslide"
    }
   },
   "source": [
    "The blue `In [1]` to the left of the cell indicates that the cell has been run, with output labeled by the red `Out[1]`.\n",
    "Once a cell has been run, all of the variables, functions, and other objects that were created in that cell are available in all other cells.\n",
    "For example, the following cell has access to the `factorial()` function once the previous cell has been run."
   ]
  },
  {
   "cell_type": "code",
   "execution_count": 2,
   "metadata": {
    "slideshow": {
     "slide_type": "fragment"
    }
   },
   "outputs": [
    {
     "name": "stdout",
     "output_type": "stream",
     "text": [
      "7! = 24\n"
     ]
    }
   ],
   "source": [
    "print(\"7! =\", factorial(4))\n",
    "\n",
    "x = 50"
   ]
  },
  {
   "cell_type": "markdown",
   "metadata": {
    "slideshow": {
     "slide_type": "fragment"
    }
   },
   "source": [
    "Note that the above cell has no output (no `Out[2]` printed after the cell in red).\n",
    "This is because the last line of code, `x = 50`, does not return anything.\n",
    "If the cell instead ended with the code\n",
    "```python\n",
    "x = 50\n",
    "\n",
    "x\n",
    "```\n",
    "Then the output would be 50.\n",
    "\n",
    "Now run the next cell."
   ]
  },
  {
   "cell_type": "code",
   "execution_count": 4,
   "metadata": {
    "slideshow": {
     "slide_type": "subslide"
    }
   },
   "outputs": [
    {
     "data": {
      "text/plain": [
       "200"
      ]
     },
     "execution_count": 4,
     "metadata": {},
     "output_type": "execute_result"
    }
   ],
   "source": [
    "x = x * 2\n",
    "\n",
    "x"
   ]
  },
  {
   "cell_type": "markdown",
   "metadata": {
    "slideshow": {
     "slide_type": "fragment"
    }
   },
   "source": [
    "The output should now be $100$.\n",
    "\n",
    "Try running the previous cell again.\n",
    "Now it outputs $200$; the value of `x` has been updated, even though the first time `x` was doubled by running the same cell.\n",
    "In other words, **running a single cell twice executes the code in the cell twice**.\n",
    "\n",
    "⚠️ <span style=\"color:red\"><strong>ACHTUNG!</strong></span> Since code cells can be run multiple times (and in any order), it is very important to be aware of which cells have been run and when.\n",
    "Notebooks should be organized so that in the end, the cells can be executed sequentially without any problems.\n",
    "Some very hard-to-find problems can arise from executing cells multiple times or out of order."
   ]
  },
  {
   "cell_type": "markdown",
   "metadata": {
    "slideshow": {
     "slide_type": "subslide"
    }
   },
   "source": [
    "Cells that are in the process of running, or that are waiting for another cell to finish before running, have `In [*]` displayed beside them.\n",
    "For example, run the following cell."
   ]
  },
  {
   "cell_type": "code",
   "execution_count": 5,
   "metadata": {
    "slideshow": {
     "slide_type": "fragment"
    }
   },
   "outputs": [
    {
     "ename": "KeyboardInterrupt",
     "evalue": "",
     "output_type": "error",
     "traceback": [
      "\u001b[0;31m---------------------------------------------------------------------------\u001b[0m",
      "\u001b[0;31mKeyboardInterrupt\u001b[0m                         Traceback (most recent call last)",
      "\u001b[0;32m<ipython-input-5-796e40e45898>\u001b[0m in \u001b[0;36m<module>\u001b[0;34m\u001b[0m\n\u001b[1;32m      1\u001b[0m \u001b[0;32mwhile\u001b[0m \u001b[0;32mTrue\u001b[0m\u001b[0;34m:\u001b[0m\u001b[0;34m\u001b[0m\u001b[0;34m\u001b[0m\u001b[0m\n\u001b[0;32m----> 2\u001b[0;31m     \u001b[0mx\u001b[0m \u001b[0;34m+=\u001b[0m \u001b[0;36m1\u001b[0m\u001b[0;34m\u001b[0m\u001b[0;34m\u001b[0m\u001b[0m\n\u001b[0m",
      "\u001b[0;31mKeyboardInterrupt\u001b[0m: "
     ]
    }
   ],
   "source": [
    "while True:\n",
    "    x += 1"
   ]
  },
  {
   "cell_type": "markdown",
   "metadata": {
    "slideshow": {
     "slide_type": "fragment"
    }
   },
   "source": [
    "At this point, Python is stuck in an infinite loop.\n",
    "To interrupt the loop, press the square \"stop\" button in the menu bar, or choose \"Interrupt\" from the **Kernel** menu.\n",
    "This is equivalent to pressing `ctrl+c` in the terminal while some code is running.\n",
    "\n",
    "Now run the cell below to see how much `x` has increased during the loop."
   ]
  },
  {
   "cell_type": "code",
   "execution_count": 1,
   "metadata": {
    "slideshow": {
     "slide_type": "fragment"
    }
   },
   "outputs": [
    {
     "ename": "NameError",
     "evalue": "name 'x' is not defined",
     "output_type": "error",
     "traceback": [
      "\u001b[0;31m---------------------------------------------------------------------------\u001b[0m",
      "\u001b[0;31mNameError\u001b[0m                                 Traceback (most recent call last)",
      "\u001b[0;32m<ipython-input-1-6fcf9dfbd479>\u001b[0m in \u001b[0;36m<module>\u001b[0;34m\u001b[0m\n\u001b[0;32m----> 1\u001b[0;31m \u001b[0mx\u001b[0m\u001b[0;34m\u001b[0m\u001b[0;34m\u001b[0m\u001b[0m\n\u001b[0m",
      "\u001b[0;31mNameError\u001b[0m: name 'x' is not defined"
     ]
    }
   ],
   "source": [
    "x"
   ]
  },
  {
   "cell_type": "markdown",
   "metadata": {
    "slideshow": {
     "slide_type": "slide"
    }
   },
   "source": [
    "### The Kernel\n",
    "\n",
    "The Python interpreter that runs notebook code under the hood is called the _kernel_.\n",
    "The **Kernel** menu at the top of the page has the following options.\n",
    "- **Interrupt**: stop executing code by raising a `KeyboardInterrupt`. Same as hitting the \"stop\" button in the toolbar.\n",
    "- **Restart**: stop execution and **delete all variables**. Every cell label goes back to `In [ ]`, meaning none of the cells have been run yet. This is like exiting IPython, then starting it again. Same as hitting the \"restart\" button in the toolbar.\n",
    "- **Restart & Clear Output**: restart the kernel and delete all outputs (`Out[1]`, figures, etc.).\n",
    "- **Restart & Run All**: restart the kernel, then run each code cell sequentially.\n",
    "\n",
    "Try restarting the kernel by selecting **Restart** from the **Kernel** menu, or by pressing the \"restart\" button in the toolbar.\n",
    "Next, run the code cell immediately above this cell.\n",
    "The cell now raises an error, since restarting the kernel erased the variable `x`.\n",
    "\n",
    "⚠️ <span style=\"color:red\"><strong>ACHTUNG!</strong></span> Restart the kernel often to avoid using old code that was executed at one point, but was later deleted or overwritten.\n",
    "Then execute cells from top to bottom until you get back to where you were working."
   ]
  },
  {
   "cell_type": "markdown",
   "metadata": {
    "slideshow": {
     "slide_type": "slide"
    }
   },
   "source": [
    "### Managing Cells\n",
    "\n",
    "Running a cell with `Shift` and `Enter` moves to the next cell.\n",
    "If there is no next cell, a new one is created.\n",
    "To make new cells in the middle of a notebook, use the **Insert** menu at the top of the page or the **+** button in the toolbar.\n",
    "The type of a cell (usually **markdown** or **code**) can be changed in the toolbar.\n",
    "Try making a code cell below this markdown cell and executing some original code.\n",
    "\n",
    "Jupyter also has many shortcuts for quick cell creation and management.\n",
    "Select **Keyboard Shortcuts** from the **Help** menu for the full list.\n",
    "Try the **User Interface Tour** from the **Help** menu to learn about additional features."
   ]
  },
  {
   "cell_type": "markdown",
   "metadata": {
    "slideshow": {
     "slide_type": "slide"
    }
   },
   "source": [
    "## Images, Sounds, and Text Inline\n",
    "\n",
    "### Images\n",
    "\n",
    "By default, matplotlib generates images in a pop-up window whenever `plt.show()` is called.\n",
    "Jupyter, on the other hand, displays static graphs as an output of the code.\n",
    "\n",
    "Creating plots in Python usually requires importing modules such as `numpy` and `matplotlib`.\n",
    "In Jupyter it is customary to put all import statements in a single cell at the top of the notebook, like in this notebook.\n",
    "\n",
    "Run the following cell to create a plot inline.\n",
    "If there is a `NameError` saying that the name `np` is not defined, run the very first cell of this notebook."
   ]
  },
  {
   "cell_type": "code",
   "execution_count": 9,
   "metadata": {
    "scrolled": false,
    "slideshow": {
     "slide_type": "fragment"
    }
   },
   "outputs": [
    {
     "data": {
      "image/png": "[encoded data removed]",
      "text/plain": [
       "<Figure size 1200x800 with 1 Axes>"
      ]
     },
     "metadata": {
      "needs_background": "light"
     },
     "output_type": "display_data"
    }
   ],
   "source": [
    "# Graph y = cos(pi*x) for x in [-2, 2].\n",
    "\n",
    "x = np.linspace(-2,2,100)\n",
    "plt.plot(x, np.cos(x*np.pi))\n",
    "plt.title(r\"$y = cos(\\pi x)$\", fontsize=18)\n",
    "plt.show()     # plt.show() isn't necessary but it doesn't mess anything up."
   ]
  },
  {
   "cell_type": "markdown",
   "metadata": {
    "slideshow": {
     "slide_type": "skip"
    }
   },
   "source": [
    "Matplotlib plots can be made interactive in Jupyter by running the following command:"
   ]
  },
  {
   "cell_type": "code",
   "execution_count": 5,
   "metadata": {},
   "outputs": [],
   "source": [
    "%matplotlib notebook"
   ]
  },
  {
   "cell_type": "markdown",
   "metadata": {
    "slideshow": {
     "slide_type": "skip"
    }
   },
   "source": [
    "Try re-running the cell that created the plot.\n",
    "Now the figure supports zooming, panning, being saved to the file system, and so on.\n",
    "The following command sets the notebook back to the default behavior of displaying static images."
   ]
  },
  {
   "cell_type": "code",
   "execution_count": 7,
   "metadata": {
    "slideshow": {
     "slide_type": "skip"
    }
   },
   "outputs": [],
   "source": [
    "%matplotlib inline"
   ]
  },
  {
   "cell_type": "markdown",
   "metadata": {
    "slideshow": {
     "slide_type": "skip"
    }
   },
   "source": [
    "The following matplotlib customization improves the presentation of inline figures in the default static mode."
   ]
  },
  {
   "cell_type": "code",
   "execution_count": 8,
   "metadata": {},
   "outputs": [],
   "source": [
    "plt.rcParams[\"figure.dpi\"] = 200"
   ]
  },
  {
   "cell_type": "markdown",
   "metadata": {
    "slideshow": {
     "slide_type": "slide"
    }
   },
   "source": [
    "### Sound Files\n",
    "\n",
    "Jupyter can also embed sound clips in a notebook.\n",
    "Start by saving a sound file in the same place as the notebook, then import the `IPython` module and use `IPython.display.Audio()` with the name of the sound file as input.\n",
    "\n",
    "As an example, the following cell creates a short sound file called `example.wav`.\n",
    "Then next cell embeds the sound into the notebook by creating an interactive audio bar that is connected to the sound file."
   ]
  },
  {
   "cell_type": "code",
   "execution_count": null,
   "metadata": {
    "slideshow": {
     "slide_type": "fragment"
    }
   },
   "outputs": [],
   "source": [
    "# Create example.wav, a simple sound file.\n",
    "wavfile.write(\"example.wav\", 44100, np.int16(32767 * np.sin(1000*np.pi*np.linspace(0, 10, 441000))))"
   ]
  },
  {
   "cell_type": "code",
   "execution_count": null,
   "metadata": {
    "slideshow": {
     "slide_type": "fragment"
    }
   },
   "outputs": [],
   "source": [
    "# Embed example.wav into the notebook. Turn the volume down before pressing play!\n",
    "IPython.display.Audio(\"example.wav\")"
   ]
  },
  {
   "cell_type": "markdown",
   "metadata": {
    "collapsed": true,
    "slideshow": {
     "slide_type": "slide"
    }
   },
   "source": [
    "### Text\n",
    "\n",
    "_Markdown_ is a barebones text formatting language that allows for standard formatting like headings, italics, lists, hyperlinks, and so on.\n",
    "In Jupyter, markdown cells are \"run\" in the same way as code cells: hold `shift` or `ctrl` and press `enter`, or hit the \"run\" button in the toolbar.\n",
    "To edit a markdown cell, double click on it (double click on this cell, for example).\n",
    "\n",
    "#### Markdown Syntax\n",
    "\n",
    "- **Headings**: Type from one to six `#`'s at the beginning of a line followed by a space and the heading text. The more `#`'s, the smaller the heading.\n",
    "- __Italics__: Surround text with one \\_ or one \\* on each side.\n",
    "- **Bold**: Surround text with two \\_ or two \\* on each side.\n",
    "- **Hyperlinks**: Surround the link text with hard brackets, followed by the URL in parentheses. For example, [this link](https://guides.github.com/features/mastering-markdown/).\n",
    "- **Lists**: Start consecutive lines with a \\* or a \\- for each point in an unordered list, or with 1. 2. 3. ... in an ordered list.\n",
    "- **Code**: Surround text with one \\` on each side. For code blocks, start and end with three \\`, followed (optionally) by the name of the language. For example,\n",
    "```python\n",
    "world = None\n",
    "def make_world():\n",
    "    return \"Hello, world!\"\n",
    "world = make_world()\n",
    "print(world)\n",
    "```\n",
    "\n",
    "#### LaTeX\n",
    "\n",
    "To embed $\\LaTeX$ formatting in a Jupyter markdown cell, surround the command with either `$` or `$$` on each side.\n",
    "The single dollar sign puts it inline with the text (like this: $y = x^2 - 1$), and the double dollar sign centers it below the text, like the following line. $$F_X(x) = \\int_{-\\infty}^{\\infty} f_X(x) dx$$\n",
    "⚠️ <span style=\"color:red\"><strong>ACHTUNG!</strong></span> Embedding $\\LaTeX$ is a feature of Jupyter, not of markdown in general.\n",
    "\n",
    "See [this page](https://guides.github.com/features/mastering-markdown/) for more markdown syntax and examples."
   ]
  },
  {
   "cell_type": "markdown",
   "metadata": {
    "collapsed": true,
    "slideshow": {
     "slide_type": "slide"
    }
   },
   "source": [
    "## Interactive Python\n",
    "\n",
    "All of the interactive features of IPython are available in Jupyter notebook, including object introspection and tab completion.\n",
    "\n",
    "To view the docstring for a function, module, or other object, type the name of the object followed by a question mark, and run the cell.\n",
    "A resizable help panel will appear at the bottom of the screen with the documentation."
   ]
  },
  {
   "cell_type": "code",
   "execution_count": 11,
   "metadata": {
    "slideshow": {
     "slide_type": "fragment"
    }
   },
   "outputs": [],
   "source": [
    "# View the docstring about the dictionary data structure\n",
    "dict?"
   ]
  },
  {
   "cell_type": "markdown",
   "metadata": {
    "slideshow": {
     "slide_type": "fragment"
    }
   },
   "source": [
    "You can also view the attributes and methods of an object by pressing `tab` after typing a period after an object. \n",
    "Similarly, you can view what arguments a function takes by holding `shift` and pressing `tab` while the cursor is inside the paretheses of the function."
   ]
  },
  {
   "cell_type": "code",
   "execution_count": null,
   "metadata": {
    "slideshow": {
     "slide_type": "fragment"
    }
   },
   "outputs": [],
   "source": [
    "# Press tab while the cursor is at the end of the next line to view the methods of the list class.\n",
    "list.\n",
    "\n",
    "# Press shift + tab while the cursor is inside the parentheses to view argument types of list.insert().\n",
    "list.insert()"
   ]
  },
  {
   "cell_type": "markdown",
   "metadata": {
    "slideshow": {
     "slide_type": "subslide"
    }
   },
   "source": [
    "IPython \"magic\" operations also carry over to Jupyter.\n",
    "Use a single `%` to perform a magic operation on a single line, or use two `%` to perform the operation on an entire cell.\n",
    "The following are some of the most common and useful magics.\n",
    "- `%lsmagic`: List all available magics.\n",
    "- `%time`: Time the execution of some code.\n",
    "- `%timeit`: Execute some code several times and report the average execution time.\n",
    "- `%prun`: Run some code through the Python code profiler, printing the number of function calls and the time each takes (see the _Python Essentials_ lab on Profiling for details).\n",
    "- `%%bash`: Run a cell with bash (as if from a terminal) in a new subprocess. Putting `!` at the front of a line also triggers bash.\n",
    "- `%%latex`: Render a cell as a block of LaTeX."
   ]
  },
  {
   "cell_type": "code",
   "execution_count": null,
   "metadata": {
    "slideshow": {
     "slide_type": "subslide"
    }
   },
   "outputs": [],
   "source": [
    "# Time how long it takes to sum the integers from 1 to 100.\n",
    "# Note that the sum is the cell output.\n",
    "%time sum(range(101))"
   ]
  },
  {
   "cell_type": "code",
   "execution_count": null,
   "metadata": {
    "slideshow": {
     "slide_type": "fragment"
    }
   },
   "outputs": [],
   "source": [
    "# Time how long it takes to sum the squares of the integers from 1 to 100.\n",
    "# Note that the sum is not reported as the cell output.\n",
    "%timeit sum(i**2 for i in range(101))"
   ]
  },
  {
   "cell_type": "code",
   "execution_count": null,
   "metadata": {
    "slideshow": {
     "slide_type": "fragment"
    }
   },
   "outputs": [],
   "source": [
    "%%time\n",
    "# Time the execution of an entire cell.\n",
    "N = 1000000\n",
    "current, total = 2, 0\n",
    "while current < N:\n",
    "    total += current\n",
    "    current *= 2\n",
    "print(\"Sum of powers of 2 less than \", N, \": \", total, sep='', end='\\n\\n')"
   ]
  },
  {
   "cell_type": "code",
   "execution_count": null,
   "metadata": {
    "slideshow": {
     "slide_type": "subslide"
    }
   },
   "outputs": [],
   "source": [
    "%%bash\n",
    "# This is bash, not Python.\n",
    "for i in {1..3}; do\n",
    "    echo $i \"ah ah ah!\"\n",
    "done"
   ]
  },
  {
   "cell_type": "code",
   "execution_count": null,
   "metadata": {
    "slideshow": {
     "slide_type": "fragment"
    }
   },
   "outputs": [],
   "source": [
    "%%latex\n",
    "Let $A$ be an $m \\times n$ matrix with columns $\\{\\mathbf{a}_j\\}_{j=1}^n$ and entries $a_{ij}$.\n",
    "If $\\textbf{x}$ is a vector with entries $\\{x_j\\}_{j=1}^n$, then the product\n",
    "$A\\mathbf{x}$ is a vector $\\mathbf{b}$ with entries $\\{b_i\\}_{i=1}^m$ satisfying\n",
    "$$b_i = \\sum_{j=1}^n x_j a_{ij}$$\n",
    "for each $i=1,2,\\ldots,m$. Furthermore,\n",
    "$$\\mathbf{b} = \\sum_{j=1}^n x_j\\mathbf{a}_j.$$"
   ]
  },
  {
   "cell_type": "markdown",
   "metadata": {
    "slideshow": {
     "slide_type": "slide"
    }
   },
   "source": [
    "## The Notebook as a Slideshow\n",
    "\n",
    "\n",
    "Jupyter notebooks can be converted to simple slideshows.\n",
    "To get started, go to \"Cell Toolbar\" under the **View** menu and select \"Slideshow\" (select \"None\" to go back to normal).\n",
    "Each cell in the notebook can then be configured as one of the several kinds of slides.\n",
    "After selecting cell types and saving the notebook, use the following commmand in the terminal.\n",
    "```bash\n",
    "jupyter nbconvert [notebook_file.ipynb] --to slides --post serve\n",
    "```\n",
    "The slideshow will appear in the default browser and a file named `[notebook_file].slides.html` will be saved to the current directory."
   ]
  },
  {
   "cell_type": "code",
   "execution_count": null,
   "metadata": {
    "slideshow": {
     "slide_type": "skip"
    }
   },
   "outputs": [
    {
     "name": "stdout",
     "output_type": "stream",
     "text": [
      "[NbConvertApp] Converting notebook jupyter_intro.ipynb to slides\n",
      "[NbConvertApp] Writing 388346 bytes to jupyter_intro.slides.html\n",
      "[NbConvertApp] Redirecting reveal.js requests to https://cdnjs.cloudflare.com/ajax/libs/reveal.js/3.5.0\n",
      "Serving your slides at http://127.0.0.1:8000/jupyter_intro.slides.html\n",
      "Use Control-C to stop this server\n",
      "WARNING:tornado.access:404 GET /custom.css (127.0.0.1) 0.67ms\n",
      "WARNING:tornado.access:404 GET /custom.css (127.0.0.1) 0.47ms\n",
      "WARNING:tornado.access:404 GET /favicon.ico (127.0.0.1) 0.74ms\n"
     ]
    }
   ],
   "source": [
    "# Run this cell to see this notebook as a slideshow.\n",
    "!jupyter nbconvert jupyter_intro.ipynb --to slides --post serve\n",
    "# Interrupt the kernel with ctrl+c to move on."
   ]
  },
  {
   "cell_type": "markdown",
   "metadata": {
    "slideshow": {
     "slide_type": "slide"
    }
   },
   "source": [
    "## Closing Jupyter\n",
    "\n",
    "Closing the browser containing a Jupyter notebook neither closes the Jupyter Notebook App nor shuts down the kernel. Instead, close the terminal that started Jupyter, or interrupt it by typing `ctrl+c`."
   ]
  },
  {
   "cell_type": "markdown",
   "metadata": {
    "slideshow": {
     "slide_type": "fragment"
    }
   },
   "source": [
    "## Additional Resources\n",
    "\n",
    "- The official Jupyter Notebook docs: http://jupyter-notebook.readthedocs.io/en/stable/\n",
    "- A collection of interesting Jupyter Notebooks on GitHub: https://github.com/jupyter/jupyter/wiki/A-gallery-of-interesting-Jupyter-Notebooks\n",
    "- Plotly's tutorial for interactive plots in a Notebook: https://plot.ly/python/ipython-notebook-tutorial/\n",
    "- Project Jupyter home: http://jupyter.org\n",
    "- A blog on [JupyterLab](https://blog.jupyter.org/jupyterlab-the-next-generation-of-the-jupyter-notebook-5c949dabea3), the future of Jupyter notebook.\n"
   ]
  }
 ],
 "metadata": {
  "kernelspec": {
   "display_name": "Python 3",
   "language": "python",
   "name": "python3"
  },
  "language_info": {
   "codemirror_mode": {
    "name": "ipython",
    "version": 3
   },
   "file_extension": ".py",
   "mimetype": "text/x-python",
   "name": "python",
   "nbconvert_exporter": "python",
   "pygments_lexer": "ipython3",
   "version": "3.7.3"
  }
 },
 "nbformat": 4,
 "nbformat_minor": 1
}
