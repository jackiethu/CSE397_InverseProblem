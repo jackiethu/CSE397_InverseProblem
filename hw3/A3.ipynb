{
 "cells": [
  {
   "cell_type": "markdown",
   "metadata": {},
   "source": [
    "## Problem 2"
   ]
  },
  {
   "cell_type": "code",
   "execution_count": 1,
   "metadata": {},
   "outputs": [
    {
     "data": {
      "image/png": "[encoded data removed]",
      "text/plain": [
       "<Figure size 432x288 with 1 Axes>"
      ]
     },
     "metadata": {
      "needs_background": "light"
     },
     "output_type": "display_data"
    },
    {
     "data": {
      "image/png": "[encoded data removed]",
      "text/plain": [
       "<Figure size 432x288 with 1 Axes>"
      ]
     },
     "metadata": {
      "needs_background": "light"
     },
     "output_type": "display_data"
    }
   ],
   "source": [
    "# Initialization\n",
    "import matplotlib.pyplot as plt\n",
    "%matplotlib inline\n",
    "\n",
    "import dolfin as df\n",
    "from dolfin import inner,nabla_grad\n",
    "import math\n",
    "import numpy as np\n",
    "import logging\n",
    "#from unconstrainedMinimization import InexactNewtonCG\n",
    "\n",
    "logging.getLogger('FFC').setLevel(logging.WARNING)\n",
    "logging.getLogger('UFL').setLevel(logging.WARNING)\n",
    "df.set_log_active(False)\n",
    "\n",
    "# Generate mesh for the unit circle domain.\n",
    "\n",
    "# Uncomment this to generate mesh using mshr:\n",
    "# import mshr\n",
    "# mesh = mshr.generate_mesh(mshr.Circle(Point(0.,0.), 1.), 40)\n",
    "\n",
    "# Alternatively, load the mesh:\n",
    "mesh = df.Mesh(\"circle.xml\")\n",
    "\n",
    "# Define the finite element space\n",
    "Vh = df.FunctionSpace(mesh, \"Lagrange\", 2)\n",
    "\n",
    "u = df.TrialFunction(Vh)\n",
    "u0 = df.Constant(0.0)\n",
    "u_hat = df.TestFunction(Vh)\n",
    "u_tilde = df.TrialFunction(Vh)\n",
    "\n",
    "def boundary(x, on_boundary):\n",
    "    return on_boundary\n",
    "\n",
    "bc = df.DirichletBC(Vh, u0, boundary)\n",
    "\n",
    "A1 = df.Constant(((10.0, 0.0),(0.0, 10.0)))\n",
    "A2 = df.Constant(((1.0, -5.0),(-5.0, 100.0)))\n",
    "\n",
    "\n",
    "\n",
    "f = df.Expression(\"exp(-100*(x[0]*x[0] + x[1]*x[1]))\",degree=5)\n",
    "\n",
    "# Define the variational problem (weak form)\n",
    "grad1 = df.dot(A1*df.grad(u), df.grad(u_hat))*df.dx - f*u_hat*df.dx\n",
    "\n",
    "a,L = df.lhs(grad1), df.rhs(grad1)\n",
    "\n",
    "u_sol = df.Function(Vh)\n",
    "\n",
    "df.solve( a==L , u_sol, bc)\n",
    "\n",
    "df.plot(u_sol)\n",
    "plt.show()\n",
    "\n",
    "grad2 = df.dot(A2*df.grad(u), df.grad(u_hat))*df.dx - f*u_hat*df.dx\n",
    "\n",
    "a,L = df.lhs(grad2), df.rhs(grad2)\n",
    "\n",
    "u_sol = df.Function(Vh)\n",
    "\n",
    "df.solve( a==L , u_sol, bc)\n",
    "\n",
    "df.plot(u_sol)\n",
    "plt.show()\n"
   ]
  },
  {
   "cell_type": "markdown",
   "metadata": {},
   "source": [
    "## Problem 3"
   ]
  },
  {
   "cell_type": "code",
   "execution_count": 2,
   "metadata": {},
   "outputs": [
    {
     "ename": "NameError",
     "evalue": "name 'Point' is not defined",
     "output_type": "error",
     "traceback": [
      "\u001b[0;31m---------------------------------------------------------------------------\u001b[0m",
      "\u001b[0;31mNameError\u001b[0m                                 Traceback (most recent call last)",
      "\u001b[0;32m<ipython-input-2-d915f934d3dd>\u001b[0m in \u001b[0;36m<module>\u001b[0;34m\u001b[0m\n\u001b[1;32m     24\u001b[0m \u001b[0mLy\u001b[0m \u001b[0;34m=\u001b[0m \u001b[0;36m1.\u001b[0m\u001b[0;34m\u001b[0m\u001b[0;34m\u001b[0m\u001b[0m\n\u001b[1;32m     25\u001b[0m \u001b[0;34m\u001b[0m\u001b[0m\n\u001b[0;32m---> 26\u001b[0;31m \u001b[0mmesh\u001b[0m \u001b[0;34m=\u001b[0m \u001b[0mdf\u001b[0m\u001b[0;34m.\u001b[0m\u001b[0mRectangleMesh\u001b[0m\u001b[0;34m(\u001b[0m\u001b[0mPoint\u001b[0m\u001b[0;34m(\u001b[0m\u001b[0;36m0\u001b[0m\u001b[0;34m,\u001b[0m\u001b[0;36m0\u001b[0m\u001b[0;34m)\u001b[0m\u001b[0;34m,\u001b[0m\u001b[0mPoint\u001b[0m\u001b[0;34m(\u001b[0m\u001b[0mLx\u001b[0m\u001b[0;34m,\u001b[0m\u001b[0mLy\u001b[0m\u001b[0;34m)\u001b[0m\u001b[0;34m,\u001b[0m \u001b[0;36m200\u001b[0m\u001b[0;34m,\u001b[0m \u001b[0;36m100\u001b[0m\u001b[0;34m)\u001b[0m\u001b[0;34m\u001b[0m\u001b[0;34m\u001b[0m\u001b[0m\n\u001b[0m\u001b[1;32m     27\u001b[0m \u001b[0mV\u001b[0m \u001b[0;34m=\u001b[0m \u001b[0mdf\u001b[0m\u001b[0;34m.\u001b[0m\u001b[0mFunctionSpace\u001b[0m\u001b[0;34m(\u001b[0m\u001b[0mmesh\u001b[0m\u001b[0;34m,\u001b[0m \u001b[0;34m\"Lagrange\"\u001b[0m\u001b[0;34m,\u001b[0m\u001b[0;36m1\u001b[0m\u001b[0;34m)\u001b[0m\u001b[0;34m\u001b[0m\u001b[0;34m\u001b[0m\u001b[0m\n\u001b[1;32m     28\u001b[0m \u001b[0;34m\u001b[0m\u001b[0m\n",
      "\u001b[0;31mNameError\u001b[0m: name 'Point' is not defined"
     ]
    }
   ],
   "source": [
    "import matplotlib.pyplot as plt\n",
    "%matplotlib inline\n",
    "\n",
    "import dolfin as df\n",
    "import math\n",
    "import numpy as np\n",
    "import logging\n",
    "from unconstrainedMinimization import InexactNewtonCG\n",
    "\n",
    "logging.getLogger('FFC').setLevel(logging.WARNING)\n",
    "logging.getLogger('UFL').setLevel(logging.WARNING)\n",
    "df.set_log_active(False)\n",
    "\n",
    "\n",
    "# Set the level of noise:\n",
    "noise_std_dev = .3\n",
    "\n",
    "# Load the image from file\n",
    "data = np.loadtxt('image.dat', delimiter=',')\n",
    "np.random.seed(seed=1)\n",
    "\n",
    "noise = noise_std_dev*np.random.randn(data.shape[0], data.shape[1])\n",
    "Lx = float(data.shape[1])/float(data.shape[0])\n",
    "Ly = 1.\n",
    "\n",
    "mesh = df.RectangleMesh(Point(0,0),Point(Lx,Ly), 200, 100)\n",
    "V = df.FunctionSpace(mesh, \"Lagrange\",1)\n",
    "\n",
    "# Generate the true image (u_true) and the noisy data (u_0)\n",
    "class Image(UserExpression):\n",
    "    def __init__(self, Lx, Ly, data, **kwargs):\n",
    "        super().__init__(kwargs)\n",
    "        self.data = data\n",
    "        self.hx = Lx/float(data.shape[1]-1)\n",
    "        self.hy = Ly/float(data.shape[0]-1)\n",
    "        \n",
    "    def eval(self, values, x):\n",
    "        j = int(math.floor(x[0]/self.hx))\n",
    "        i = int(math.floor(x[1]/self.hy))\n",
    "        values[0] = self.data[i,j]\n",
    "        \n",
    "    def value_shape(self):\n",
    "        return ()\n",
    "\n",
    "trueImage  = Image(Lx, Ly, data, element=V.ufl_element())\n",
    "noisyImage = Image(Lx, Ly, data+noise, element=V.ufl_element())\n",
    "\n",
    "u_true  = interpolate(trueImage, V)\n",
    "u_0     = interpolate(noisyImage, V)\n",
    "\n",
    "vmin = np.min(u_0.vector().get_local())\n",
    "vmax = np.max(u_0.vector().get_local())\n",
    "\n",
    "plt.figure(figsize=[15,15])\n",
    "plt.subplot(1,2,1)\n",
    "plot(u_true, title=\"True Image\", vmin=vmin, vmax = vmax)\n",
    "plt.subplot(1,2,2)\n",
    "plot(u_0, title=\"Noisy Image\", vmin=vmin, vmax = vmax)\n",
    "plt.show()"
   ]
  },
  {
   "cell_type": "code",
   "execution_count": null,
   "metadata": {},
   "outputs": [],
   "source": []
  }
 ],
 "metadata": {
  "kernelspec": {
   "display_name": "Python 3",
   "language": "python",
   "name": "python3"
  },
  "language_info": {
   "codemirror_mode": {
    "name": "ipython",
    "version": 3
   },
   "file_extension": ".py",
   "mimetype": "text/x-python",
   "name": "python",
   "nbconvert_exporter": "python",
   "pygments_lexer": "ipython3",
   "version": "3.7.3"
  }
 },
 "nbformat": 4,
 "nbformat_minor": 2
}
