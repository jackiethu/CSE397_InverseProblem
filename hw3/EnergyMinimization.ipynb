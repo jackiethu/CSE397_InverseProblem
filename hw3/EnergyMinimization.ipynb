{
 "cells": [
  {
   "cell_type": "code",
   "execution_count": 1,
   "metadata": {},
   "outputs": [
    {
     "name": "stdout",
     "output_type": "stream",
     "text": [
      " It          Energy           ||g||          (g,du)           alpha          tol_cg   cg_it\n",
      "  0   -2.189399e+00    8.786318e-01   -2.970296e+01    1.250000e-01    5.000000e-01       1\n",
      "  1   -2.588900e+00    7.092549e-01   -4.242235e+00    1.250000e-01    5.000000e-01       2\n",
      "  2   -2.758269e+00    1.346804e-01   -3.214654e-01    1.000000e+00    5.000000e-01       2\n",
      "  3   -2.761608e+00    1.664153e-02   -6.552245e-03    1.000000e+00    5.000000e-01       1\n",
      "  4   -2.761780e+00    3.488480e-04   -3.448126e-04    1.000000e+00    2.658770e-01       3\n",
      "  5   -2.761780e+00    1.295193e-05   -2.364783e-07    1.000000e+00    3.849481e-02       3\n",
      "  6   -2.761780e+00    5.493872e-08   -2.096347e-10    1.000000e+00    7.417393e-03       4\n",
      "Norm of the gradient less than tolerance\n",
      "Inexact Newton CG converged in  6 nonlinear iterations and  16 linear iterations.\n",
      "Final norm of the gradient 5.493871993618149e-08\n",
      "Value of the cost functional -2.7617804983042284\n"
     ]
    },
    {
     "data": {
      "image/png": "[encoded data removed]",
      "text/plain": [
       "<Figure size 432x288 with 1 Axes>"
      ]
     },
     "metadata": {
      "needs_background": "light"
     },
     "output_type": "display_data"
    }
   ],
   "source": [
    "# Initialization\n",
    "import matplotlib.pyplot as plt\n",
    "%matplotlib inline\n",
    "\n",
    "from dolfin import *\n",
    "import math\n",
    "import numpy as np\n",
    "import logging\n",
    "from unconstrainedMinimization import InexactNewtonCG\n",
    "\n",
    "logging.getLogger('FFC').setLevel(logging.WARNING)\n",
    "logging.getLogger('UFL').setLevel(logging.WARNING)\n",
    "set_log_active(False)\n",
    "\n",
    "# Generate mesh for the unit circle domain.\n",
    "\n",
    "# Uncomment this to generate mesh using mshr:\n",
    "# import mshr\n",
    "# mesh = mshr.generate_mesh(mshr.Circle(Point(0.,0.), 1.), 40)\n",
    "\n",
    "# Alternatively, load the mesh:\n",
    "mesh = Mesh(\"circle.xml\")\n",
    "\n",
    "# Define the finite element space\n",
    "Vh = FunctionSpace(mesh, \"Lagrange\", 2)\n",
    "\n",
    "u = Function(Vh)\n",
    "u_hat = TestFunction(Vh)\n",
    "u_tilde = TrialFunction(Vh)\n",
    "\n",
    "# Define the energy functional\n",
    "f = Expression(\"100*exp(-100*(x[0]*x[0] + x[1]*x[1]))\",degree=5)\n",
    "beta = Constant(100)\n",
    "k1 = Constant(.1)\n",
    "k2 = Constant(1.)\n",
    "\n",
    "E = Constant(.5)*beta*u*u*ds + \\\n",
    "    Constant(.5)*(k1 + k2*u*u)*inner(nabla_grad(u), nabla_grad(u))*dx - \\\n",
    "    f*u*dx\n",
    "\n",
    "grad = beta*u*u_hat*ds + (k2*u*u_hat)*inner(nabla_grad(u), nabla_grad(u))*dx + \\\n",
    "       (k1 + k2*u*u)*inner(nabla_grad(u), nabla_grad(u_hat))*dx - f*u_hat*dx\n",
    "\n",
    "H = beta*u_tilde*u_hat*ds + \\\n",
    "    k2*u_tilde*u_hat*inner(nabla_grad(u), nabla_grad(u))*dx + \\\n",
    "    Constant(2.)*(k2*u*u_hat)*inner(nabla_grad(u_tilde), nabla_grad(u))*dx + \\\n",
    "    Constant(2.)*k2*u_tilde*u*inner(nabla_grad(u), nabla_grad(u_hat))*dx + \\\n",
    "    (k1 + k2*u*u)*inner(nabla_grad(u_tilde), nabla_grad(u_hat))*dx\n",
    "    \n",
    "    \n",
    "solver = InexactNewtonCG()\n",
    "solver.parameters[\"rel_tolerance\"] = 1e-6\n",
    "solver.parameters[\"abs_tolerance\"] = 1e-9\n",
    "solver.parameters[\"gdu_tolerance\"] = 1e-18\n",
    "solver.parameters[\"max_iter\"] = 1000\n",
    "solver.parameters[\"c_armijo\"] = 1e-5\n",
    "solver.parameters[\"print_level\"] = 1\n",
    "solver.parameters[\"max_backtracking_iter\"] = 10\n",
    "\n",
    "solver.solve(E, u, grad, H)\n",
    "\n",
    "plot(u)\n",
    "plt.show()"
   ]
  },
  {
   "cell_type": "markdown",
   "metadata": {},
   "source": [
    "Copyright (c) 2016, The University of Texas at Austin & University of California, Merced.\n",
    "\n",
    "All Rights reserved.\n",
    "See file COPYRIGHT for details.\n",
    "\n",
    "This file is part of the hIPPYlib library. For more information and source code availability see https://hippylib.github.io.\n",
    "\n",
    "hIPPYlib is free software; you can redistribute it and/or modify it under the terms of the GNU General Public License (as published by the Free Software Foundation) version 2.0 dated June 1991."
   ]
  }
 ],
 "metadata": {
  "kernelspec": {
   "display_name": "Python 3",
   "language": "python",
   "name": "python3"
  },
  "language_info": {
   "codemirror_mode": {
    "name": "ipython",
    "version": 3
   },
   "file_extension": ".py",
   "mimetype": "text/x-python",
   "name": "python",
   "nbconvert_exporter": "python",
   "pygments_lexer": "ipython3",
   "version": "3.7.3"
  }
 },
 "nbformat": 4,
 "nbformat_minor": 2
}
